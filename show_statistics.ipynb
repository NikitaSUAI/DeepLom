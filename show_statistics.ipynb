{
 "cells": [
  {
   "cell_type": "code",
   "execution_count": 1,
   "id": "f87cf0c0-02f4-41ce-a78e-4f8fd049e736",
   "metadata": {},
   "outputs": [],
   "source": [
    "from util import delete_noise_name, delete_duration_name, get_mult, shrink, stat, get_rttms, test"
   ]
  },
  {
   "cell_type": "markdown",
   "id": "59539173-8f3e-454b-aa20-4c29afccae8a",
   "metadata": {
    "tags": []
   },
   "source": [
    "# Для начала посмотрим как справляется Pyannote-audio"
   ]
  },
  {
   "cell_type": "code",
   "execution_count": 16,
   "id": "e26ec01f-84d5-4b76-b3d1-d78af89a72d7",
   "metadata": {},
   "outputs": [],
   "source": [
    "with_noise_pyanno, raw_pyanno, with_duration_pyanno = get_rttms(\"pyannote-audio/out\")"
   ]
  },
  {
   "cell_type": "markdown",
   "id": "b04a5376-37c1-448e-85f0-12d4796790db",
   "metadata": {},
   "source": [
    "## Значение DER с тестовыми данными:"
   ]
  },
  {
   "cell_type": "code",
   "execution_count": 4,
   "id": "07f23e08-2b80-4a85-8754-a50d3064c45d",
   "metadata": {},
   "outputs": [
    {
     "name": "stderr",
     "output_type": "stream",
     "text": [
      "/home/nikittossii/Documents/DeeepLom/env/lib/python3.8/site-packages/pyannote/metrics/utils.py:183: UserWarning: 'uem' was approximated by the union of 'reference' and 'hypothesis' extents.\n",
      "  warnings.warn(\n"
     ]
    },
    {
     "data": {
      "text/html": [
       "<div>\n",
       "<style scoped>\n",
       "    .dataframe tbody tr th:only-of-type {\n",
       "        vertical-align: middle;\n",
       "    }\n",
       "\n",
       "    .dataframe tbody tr th {\n",
       "        vertical-align: top;\n",
       "    }\n",
       "\n",
       "    .dataframe thead th {\n",
       "        text-align: right;\n",
       "    }\n",
       "</style>\n",
       "<table border=\"1\" class=\"dataframe\">\n",
       "  <thead>\n",
       "    <tr style=\"text-align: right;\">\n",
       "      <th></th>\n",
       "      <th>file</th>\n",
       "      <th>DER</th>\n",
       "      <th>JER</th>\n",
       "      <th>FA</th>\n",
       "      <th>Missed</th>\n",
       "      <th>counted person</th>\n",
       "      <th>person</th>\n",
       "    </tr>\n",
       "  </thead>\n",
       "  <tbody>\n",
       "    <tr>\n",
       "      <th>0</th>\n",
       "      <td>TS3003a.Mix-Headset</td>\n",
       "      <td>0.327240</td>\n",
       "      <td>0.796509</td>\n",
       "      <td>27.377</td>\n",
       "      <td>246.542</td>\n",
       "      <td>9</td>\n",
       "      <td>4</td>\n",
       "    </tr>\n",
       "    <tr>\n",
       "      <th>1</th>\n",
       "      <td>IS1009a.Mix-Headset</td>\n",
       "      <td>0.398127</td>\n",
       "      <td>0.701227</td>\n",
       "      <td>30.031</td>\n",
       "      <td>147.293</td>\n",
       "      <td>5</td>\n",
       "      <td>4</td>\n",
       "    </tr>\n",
       "    <tr>\n",
       "      <th>2</th>\n",
       "      <td>ES2004a.Mix-Headset</td>\n",
       "      <td>0.321326</td>\n",
       "      <td>0.373392</td>\n",
       "      <td>29.544</td>\n",
       "      <td>259.071</td>\n",
       "      <td>4</td>\n",
       "      <td>4</td>\n",
       "    </tr>\n",
       "    <tr>\n",
       "      <th>3</th>\n",
       "      <td>--ALL--</td>\n",
       "      <td>0.348898</td>\n",
       "      <td>NaN</td>\n",
       "      <td>NaN</td>\n",
       "      <td>NaN</td>\n",
       "      <td>NaN</td>\n",
       "      <td>NaN</td>\n",
       "    </tr>\n",
       "  </tbody>\n",
       "</table>\n",
       "</div>"
      ],
      "text/plain": [
       "                  file       DER       JER      FA   Missed counted person  \\\n",
       "0  TS3003a.Mix-Headset  0.327240  0.796509  27.377  246.542              9   \n",
       "1  IS1009a.Mix-Headset  0.398127  0.701227  30.031  147.293              5   \n",
       "2  ES2004a.Mix-Headset  0.321326  0.373392  29.544  259.071              4   \n",
       "3              --ALL--  0.348898       NaN     NaN      NaN            NaN   \n",
       "\n",
       "  person  \n",
       "0      4  \n",
       "1      4  \n",
       "2      4  \n",
       "3    NaN  "
      ]
     },
     "execution_count": 4,
     "metadata": {},
     "output_type": "execute_result"
    }
   ],
   "source": [
    "stat(raw_pyanno, test)"
   ]
  },
  {
   "cell_type": "markdown",
   "id": "1ed07d6a-c0e9-4d26-bf9b-3e891cda7b6f",
   "metadata": {},
   "source": [
    "## Значение DER с шумом"
   ]
  },
  {
   "cell_type": "code",
   "execution_count": 5,
   "id": "43f794ae-21df-43bf-af24-976699d9ceb3",
   "metadata": {},
   "outputs": [
    {
     "name": "stderr",
     "output_type": "stream",
     "text": [
      "/home/nikittossii/Documents/DeeepLom/env/lib/python3.8/site-packages/pyannote/metrics/utils.py:183: UserWarning: 'uem' was approximated by the union of 'reference' and 'hypothesis' extents.\n",
      "  warnings.warn(\n"
     ]
    },
    {
     "data": {
      "text/html": [
       "<div>\n",
       "<style scoped>\n",
       "    .dataframe tbody tr th:only-of-type {\n",
       "        vertical-align: middle;\n",
       "    }\n",
       "\n",
       "    .dataframe tbody tr th {\n",
       "        vertical-align: top;\n",
       "    }\n",
       "\n",
       "    .dataframe thead th {\n",
       "        text-align: right;\n",
       "    }\n",
       "</style>\n",
       "<table border=\"1\" class=\"dataframe\">\n",
       "  <thead>\n",
       "    <tr style=\"text-align: right;\">\n",
       "      <th></th>\n",
       "      <th>file</th>\n",
       "      <th>DER</th>\n",
       "      <th>JER</th>\n",
       "      <th>FA</th>\n",
       "      <th>Missed</th>\n",
       "      <th>counted person</th>\n",
       "      <th>person</th>\n",
       "    </tr>\n",
       "  </thead>\n",
       "  <tbody>\n",
       "    <tr>\n",
       "      <th>0</th>\n",
       "      <td>IS1009a.Mix-Headset_noise_lvl5</td>\n",
       "      <td>0.478012</td>\n",
       "      <td>0.823506</td>\n",
       "      <td>29.637</td>\n",
       "      <td>152.408</td>\n",
       "      <td>14</td>\n",
       "      <td>4</td>\n",
       "    </tr>\n",
       "    <tr>\n",
       "      <th>1</th>\n",
       "      <td>IS1009a.Mix-Headset_noise_lvl10</td>\n",
       "      <td>0.472678</td>\n",
       "      <td>0.743757</td>\n",
       "      <td>38.454</td>\n",
       "      <td>148.946</td>\n",
       "      <td>19</td>\n",
       "      <td>4</td>\n",
       "    </tr>\n",
       "    <tr>\n",
       "      <th>2</th>\n",
       "      <td>TS3003a.Mix-Headset_noise_lvl10</td>\n",
       "      <td>0.339122</td>\n",
       "      <td>0.792817</td>\n",
       "      <td>45.263</td>\n",
       "      <td>246.067</td>\n",
       "      <td>11</td>\n",
       "      <td>4</td>\n",
       "    </tr>\n",
       "    <tr>\n",
       "      <th>3</th>\n",
       "      <td>TS3003a.Mix-Headset_noise_lvl20</td>\n",
       "      <td>0.338406</td>\n",
       "      <td>0.795167</td>\n",
       "      <td>60.358</td>\n",
       "      <td>220.758</td>\n",
       "      <td>14</td>\n",
       "      <td>4</td>\n",
       "    </tr>\n",
       "    <tr>\n",
       "      <th>4</th>\n",
       "      <td>IS1009a.Mix-Headset_noise_lvl20</td>\n",
       "      <td>0.527708</td>\n",
       "      <td>0.765962</td>\n",
       "      <td>45.818</td>\n",
       "      <td>146.961</td>\n",
       "      <td>33</td>\n",
       "      <td>4</td>\n",
       "    </tr>\n",
       "    <tr>\n",
       "      <th>5</th>\n",
       "      <td>TS3003a.Mix-Headset_noise_lvl5</td>\n",
       "      <td>0.339710</td>\n",
       "      <td>0.796696</td>\n",
       "      <td>43.242</td>\n",
       "      <td>254.030</td>\n",
       "      <td>8</td>\n",
       "      <td>4</td>\n",
       "    </tr>\n",
       "    <tr>\n",
       "      <th>6</th>\n",
       "      <td>--ALL--</td>\n",
       "      <td>0.415939</td>\n",
       "      <td>NaN</td>\n",
       "      <td>NaN</td>\n",
       "      <td>NaN</td>\n",
       "      <td>NaN</td>\n",
       "      <td>NaN</td>\n",
       "    </tr>\n",
       "  </tbody>\n",
       "</table>\n",
       "</div>"
      ],
      "text/plain": [
       "                              file       DER       JER      FA   Missed  \\\n",
       "0   IS1009a.Mix-Headset_noise_lvl5  0.478012  0.823506  29.637  152.408   \n",
       "1  IS1009a.Mix-Headset_noise_lvl10  0.472678  0.743757  38.454  148.946   \n",
       "2  TS3003a.Mix-Headset_noise_lvl10  0.339122  0.792817  45.263  246.067   \n",
       "3  TS3003a.Mix-Headset_noise_lvl20  0.338406  0.795167  60.358  220.758   \n",
       "4  IS1009a.Mix-Headset_noise_lvl20  0.527708  0.765962  45.818  146.961   \n",
       "5   TS3003a.Mix-Headset_noise_lvl5  0.339710  0.796696  43.242  254.030   \n",
       "6                          --ALL--  0.415939       NaN     NaN      NaN   \n",
       "\n",
       "  counted person person  \n",
       "0             14      4  \n",
       "1             19      4  \n",
       "2             11      4  \n",
       "3             14      4  \n",
       "4             33      4  \n",
       "5              8      4  \n",
       "6            NaN    NaN  "
      ]
     },
     "execution_count": 5,
     "metadata": {},
     "output_type": "execute_result"
    }
   ],
   "source": [
    "stat(with_noise_pyanno, test, delete_noise_name)"
   ]
  },
  {
   "cell_type": "markdown",
   "id": "01b3ccbf-9184-4c08-9d0b-11b328d9ba90",
   "metadata": {},
   "source": [
    "# Теперь посмотрим значения для pyBK"
   ]
  },
  {
   "cell_type": "markdown",
   "id": "4ac91044-55d6-431c-8962-9217e8e149e2",
   "metadata": {},
   "source": [
    "Для данного решения замечена особеность - не получается обработать файл больше 40 минут"
   ]
  },
  {
   "cell_type": "code",
   "execution_count": 13,
   "id": "c48a3b1d-6026-4ef4-add9-c17804293cd5",
   "metadata": {},
   "outputs": [],
   "source": [
    "pyBK_out_path = \"pyBK/out/\"\n",
    "with_noise_pyBK, raw_pyBK, with_duration_pyBK = get_rttms(pyBK_out_path)"
   ]
  },
  {
   "cell_type": "markdown",
   "id": "7b5a4e89-577a-43aa-974f-d7df7ead24c8",
   "metadata": {},
   "source": [
    "## Значение DER с тестовыми данными:"
   ]
  },
  {
   "cell_type": "code",
   "execution_count": 14,
   "id": "8193ba82-c15a-4430-8b0c-ccad8b96f460",
   "metadata": {},
   "outputs": [
    {
     "name": "stderr",
     "output_type": "stream",
     "text": [
      "/home/nikittossii/Documents/DeeepLom/env/lib/python3.8/site-packages/pyannote/metrics/utils.py:183: UserWarning: 'uem' was approximated by the union of 'reference' and 'hypothesis' extents.\n",
      "  warnings.warn(\n"
     ]
    },
    {
     "data": {
      "text/html": [
       "<div>\n",
       "<style scoped>\n",
       "    .dataframe tbody tr th:only-of-type {\n",
       "        vertical-align: middle;\n",
       "    }\n",
       "\n",
       "    .dataframe tbody tr th {\n",
       "        vertical-align: top;\n",
       "    }\n",
       "\n",
       "    .dataframe thead th {\n",
       "        text-align: right;\n",
       "    }\n",
       "</style>\n",
       "<table border=\"1\" class=\"dataframe\">\n",
       "  <thead>\n",
       "    <tr style=\"text-align: right;\">\n",
       "      <th></th>\n",
       "      <th>file</th>\n",
       "      <th>DER</th>\n",
       "      <th>JER</th>\n",
       "      <th>FA</th>\n",
       "      <th>Missed</th>\n",
       "      <th>counted person</th>\n",
       "      <th>person</th>\n",
       "    </tr>\n",
       "  </thead>\n",
       "  <tbody>\n",
       "    <tr>\n",
       "      <th>0</th>\n",
       "      <td>EN2002b.Mix-Headset</td>\n",
       "      <td>0.653882</td>\n",
       "      <td>0.717277</td>\n",
       "      <td>74.683</td>\n",
       "      <td>762.831</td>\n",
       "      <td>5</td>\n",
       "      <td>4</td>\n",
       "    </tr>\n",
       "    <tr>\n",
       "      <th>1</th>\n",
       "      <td>ES2004a.Mix-Headset</td>\n",
       "      <td>0.643808</td>\n",
       "      <td>0.660491</td>\n",
       "      <td>130.555</td>\n",
       "      <td>271.192</td>\n",
       "      <td>4</td>\n",
       "      <td>4</td>\n",
       "    </tr>\n",
       "    <tr>\n",
       "      <th>2</th>\n",
       "      <td>--ALL--</td>\n",
       "      <td>0.648845</td>\n",
       "      <td>NaN</td>\n",
       "      <td>NaN</td>\n",
       "      <td>NaN</td>\n",
       "      <td>NaN</td>\n",
       "      <td>NaN</td>\n",
       "    </tr>\n",
       "  </tbody>\n",
       "</table>\n",
       "</div>"
      ],
      "text/plain": [
       "                  file       DER       JER       FA   Missed counted person  \\\n",
       "0  EN2002b.Mix-Headset  0.653882  0.717277   74.683  762.831              5   \n",
       "1  ES2004a.Mix-Headset  0.643808  0.660491  130.555  271.192              4   \n",
       "2              --ALL--  0.648845       NaN      NaN      NaN            NaN   \n",
       "\n",
       "  person  \n",
       "0      4  \n",
       "1      4  \n",
       "2    NaN  "
      ]
     },
     "execution_count": 14,
     "metadata": {},
     "output_type": "execute_result"
    }
   ],
   "source": [
    "stat(raw_pyBK, test)"
   ]
  },
  {
   "cell_type": "markdown",
   "id": "f7718276-af07-4d19-99ab-01069ac31461",
   "metadata": {},
   "source": [
    "## Значение DER с шумом"
   ]
  },
  {
   "cell_type": "code",
   "execution_count": 15,
   "id": "07195471-fe94-4493-a376-9031698f4719",
   "metadata": {},
   "outputs": [
    {
     "name": "stderr",
     "output_type": "stream",
     "text": [
      "/home/nikittossii/Documents/DeeepLom/env/lib/python3.8/site-packages/pyannote/metrics/utils.py:183: UserWarning: 'uem' was approximated by the union of 'reference' and 'hypothesis' extents.\n",
      "  warnings.warn(\n"
     ]
    },
    {
     "data": {
      "text/html": [
       "<div>\n",
       "<style scoped>\n",
       "    .dataframe tbody tr th:only-of-type {\n",
       "        vertical-align: middle;\n",
       "    }\n",
       "\n",
       "    .dataframe tbody tr th {\n",
       "        vertical-align: top;\n",
       "    }\n",
       "\n",
       "    .dataframe thead th {\n",
       "        text-align: right;\n",
       "    }\n",
       "</style>\n",
       "<table border=\"1\" class=\"dataframe\">\n",
       "  <thead>\n",
       "    <tr style=\"text-align: right;\">\n",
       "      <th></th>\n",
       "      <th>file</th>\n",
       "      <th>DER</th>\n",
       "      <th>JER</th>\n",
       "      <th>FA</th>\n",
       "      <th>Missed</th>\n",
       "      <th>counted person</th>\n",
       "      <th>person</th>\n",
       "    </tr>\n",
       "  </thead>\n",
       "  <tbody>\n",
       "    <tr>\n",
       "      <th>0</th>\n",
       "      <td>EN2002b.Mix-Headset_noise_lvl10</td>\n",
       "      <td>0.721153</td>\n",
       "      <td>0.771128</td>\n",
       "      <td>74.683</td>\n",
       "      <td>762.831</td>\n",
       "      <td>5</td>\n",
       "      <td>4</td>\n",
       "    </tr>\n",
       "    <tr>\n",
       "      <th>1</th>\n",
       "      <td>EN2002b.Mix-Headset_noise_lvl20</td>\n",
       "      <td>0.672388</td>\n",
       "      <td>0.739031</td>\n",
       "      <td>74.683</td>\n",
       "      <td>762.831</td>\n",
       "      <td>4</td>\n",
       "      <td>4</td>\n",
       "    </tr>\n",
       "    <tr>\n",
       "      <th>2</th>\n",
       "      <td>EN2002b.Mix-Headset_noise_lvl5</td>\n",
       "      <td>0.682896</td>\n",
       "      <td>0.731550</td>\n",
       "      <td>74.683</td>\n",
       "      <td>762.831</td>\n",
       "      <td>6</td>\n",
       "      <td>4</td>\n",
       "    </tr>\n",
       "    <tr>\n",
       "      <th>3</th>\n",
       "      <td>--ALL--</td>\n",
       "      <td>0.692146</td>\n",
       "      <td>NaN</td>\n",
       "      <td>NaN</td>\n",
       "      <td>NaN</td>\n",
       "      <td>NaN</td>\n",
       "      <td>NaN</td>\n",
       "    </tr>\n",
       "  </tbody>\n",
       "</table>\n",
       "</div>"
      ],
      "text/plain": [
       "                              file       DER       JER      FA   Missed  \\\n",
       "0  EN2002b.Mix-Headset_noise_lvl10  0.721153  0.771128  74.683  762.831   \n",
       "1  EN2002b.Mix-Headset_noise_lvl20  0.672388  0.739031  74.683  762.831   \n",
       "2   EN2002b.Mix-Headset_noise_lvl5  0.682896  0.731550  74.683  762.831   \n",
       "3                          --ALL--  0.692146       NaN     NaN      NaN   \n",
       "\n",
       "  counted person person  \n",
       "0              5      4  \n",
       "1              4      4  \n",
       "2              6      4  \n",
       "3            NaN    NaN  "
      ]
     },
     "execution_count": 15,
     "metadata": {},
     "output_type": "execute_result"
    }
   ],
   "source": [
    "stat(with_noise_pyBK, test, delete_noise_name)"
   ]
  },
  {
   "cell_type": "markdown",
   "id": "40e7a4e9-10de-4928-9fc7-59f8877fc559",
   "metadata": {},
   "source": [
    "# Теперь рассмотрим значения для pyAudioAnalysis"
   ]
  },
  {
   "cell_type": "markdown",
   "id": "3a8fbaab-5d8c-4184-b32f-25acaa59752f",
   "metadata": {},
   "source": [
    "У данного решения тоже есть особеность, для поиска дневника говорящего требуется априорное знание о количестве говорящих"
   ]
  },
  {
   "cell_type": "code",
   "execution_count": 19,
   "id": "29ab0251-a065-41f7-ad34-d626d93e9982",
   "metadata": {},
   "outputs": [],
   "source": [
    "pyAA_out_path = \"pyAudioAnalysis/out/\"\n",
    "with_noise_pyAA, raw_pyAA, with_duration_pyAA = get_rttms(pyAA_out_path)"
   ]
  },
  {
   "cell_type": "markdown",
   "id": "a09d3e1f-81d7-4293-97bb-899ef7d935bf",
   "metadata": {},
   "source": [
    "## Значение DER с тестовыми данными:"
   ]
  },
  {
   "cell_type": "code",
   "execution_count": 20,
   "id": "ef301bad-20db-463c-8380-c9c8755fea7e",
   "metadata": {},
   "outputs": [
    {
     "name": "stderr",
     "output_type": "stream",
     "text": [
      "/home/nikittossii/Documents/DeeepLom/env/lib/python3.8/site-packages/pyannote/metrics/utils.py:183: UserWarning: 'uem' was approximated by the union of 'reference' and 'hypothesis' extents.\n",
      "  warnings.warn(\n"
     ]
    },
    {
     "data": {
      "text/html": [
       "<div>\n",
       "<style scoped>\n",
       "    .dataframe tbody tr th:only-of-type {\n",
       "        vertical-align: middle;\n",
       "    }\n",
       "\n",
       "    .dataframe tbody tr th {\n",
       "        vertical-align: top;\n",
       "    }\n",
       "\n",
       "    .dataframe thead th {\n",
       "        text-align: right;\n",
       "    }\n",
       "</style>\n",
       "<table border=\"1\" class=\"dataframe\">\n",
       "  <thead>\n",
       "    <tr style=\"text-align: right;\">\n",
       "      <th></th>\n",
       "      <th>file</th>\n",
       "      <th>DER</th>\n",
       "      <th>JER</th>\n",
       "      <th>FA</th>\n",
       "      <th>Missed</th>\n",
       "      <th>counted person</th>\n",
       "      <th>person</th>\n",
       "    </tr>\n",
       "  </thead>\n",
       "  <tbody>\n",
       "    <tr>\n",
       "      <th>0</th>\n",
       "      <td>TS3007a.Mix-Headset</td>\n",
       "      <td>0.935304</td>\n",
       "      <td>0.825448</td>\n",
       "      <td>409.891</td>\n",
       "      <td>247.331</td>\n",
       "      <td>4</td>\n",
       "      <td>4</td>\n",
       "    </tr>\n",
       "    <tr>\n",
       "      <th>1</th>\n",
       "      <td>ES2004a.Mix-Headset</td>\n",
       "      <td>0.651654</td>\n",
       "      <td>0.638637</td>\n",
       "      <td>221.387</td>\n",
       "      <td>225.094</td>\n",
       "      <td>4</td>\n",
       "      <td>4</td>\n",
       "    </tr>\n",
       "    <tr>\n",
       "      <th>2</th>\n",
       "      <td>TS3003a.Mix-Headset</td>\n",
       "      <td>0.989999</td>\n",
       "      <td>0.869617</td>\n",
       "      <td>423.236</td>\n",
       "      <td>156.822</td>\n",
       "      <td>4</td>\n",
       "      <td>4</td>\n",
       "    </tr>\n",
       "    <tr>\n",
       "      <th>3</th>\n",
       "      <td>EN2002b.Mix-Headset</td>\n",
       "      <td>0.747701</td>\n",
       "      <td>0.729995</td>\n",
       "      <td>267.667</td>\n",
       "      <td>654.045</td>\n",
       "      <td>4</td>\n",
       "      <td>4</td>\n",
       "    </tr>\n",
       "    <tr>\n",
       "      <th>4</th>\n",
       "      <td>IS1009a.Mix-Headset</td>\n",
       "      <td>0.951766</td>\n",
       "      <td>0.823576</td>\n",
       "      <td>209.989</td>\n",
       "      <td>143.162</td>\n",
       "      <td>4</td>\n",
       "      <td>4</td>\n",
       "    </tr>\n",
       "    <tr>\n",
       "      <th>5</th>\n",
       "      <td>IS1009c.Mix-Headset</td>\n",
       "      <td>0.721839</td>\n",
       "      <td>0.758680</td>\n",
       "      <td>253.784</td>\n",
       "      <td>145.319</td>\n",
       "      <td>4</td>\n",
       "      <td>4</td>\n",
       "    </tr>\n",
       "    <tr>\n",
       "      <th>6</th>\n",
       "      <td>ES2014a.Mix-Headset</td>\n",
       "      <td>0.828829</td>\n",
       "      <td>0.805253</td>\n",
       "      <td>249.007</td>\n",
       "      <td>173.972</td>\n",
       "      <td>4</td>\n",
       "      <td>4</td>\n",
       "    </tr>\n",
       "    <tr>\n",
       "      <th>7</th>\n",
       "      <td>--ALL--</td>\n",
       "      <td>0.832441</td>\n",
       "      <td>NaN</td>\n",
       "      <td>NaN</td>\n",
       "      <td>NaN</td>\n",
       "      <td>NaN</td>\n",
       "      <td>NaN</td>\n",
       "    </tr>\n",
       "  </tbody>\n",
       "</table>\n",
       "</div>"
      ],
      "text/plain": [
       "                  file       DER       JER       FA   Missed counted person  \\\n",
       "0  TS3007a.Mix-Headset  0.935304  0.825448  409.891  247.331              4   \n",
       "1  ES2004a.Mix-Headset  0.651654  0.638637  221.387  225.094              4   \n",
       "2  TS3003a.Mix-Headset  0.989999  0.869617  423.236  156.822              4   \n",
       "3  EN2002b.Mix-Headset  0.747701  0.729995  267.667  654.045              4   \n",
       "4  IS1009a.Mix-Headset  0.951766  0.823576  209.989  143.162              4   \n",
       "5  IS1009c.Mix-Headset  0.721839  0.758680  253.784  145.319              4   \n",
       "6  ES2014a.Mix-Headset  0.828829  0.805253  249.007  173.972              4   \n",
       "7              --ALL--  0.832441       NaN      NaN      NaN            NaN   \n",
       "\n",
       "  person  \n",
       "0      4  \n",
       "1      4  \n",
       "2      4  \n",
       "3      4  \n",
       "4      4  \n",
       "5      4  \n",
       "6      4  \n",
       "7    NaN  "
      ]
     },
     "execution_count": 20,
     "metadata": {},
     "output_type": "execute_result"
    }
   ],
   "source": [
    "stat(raw_pyAA, test)"
   ]
  },
  {
   "cell_type": "markdown",
   "id": "873643be-353e-4b0c-b117-5e78c46fd61f",
   "metadata": {},
   "source": [
    "## Значение DER с шумом"
   ]
  },
  {
   "cell_type": "code",
   "execution_count": 18,
   "id": "c9b628d4-ba86-4a0b-b6fb-4bdf26759c7e",
   "metadata": {},
   "outputs": [
    {
     "data": {
      "text/html": [
       "<div>\n",
       "<style scoped>\n",
       "    .dataframe tbody tr th:only-of-type {\n",
       "        vertical-align: middle;\n",
       "    }\n",
       "\n",
       "    .dataframe tbody tr th {\n",
       "        vertical-align: top;\n",
       "    }\n",
       "\n",
       "    .dataframe thead th {\n",
       "        text-align: right;\n",
       "    }\n",
       "</style>\n",
       "<table border=\"1\" class=\"dataframe\">\n",
       "  <thead>\n",
       "    <tr style=\"text-align: right;\">\n",
       "      <th></th>\n",
       "      <th>file</th>\n",
       "      <th>DER</th>\n",
       "      <th>JER</th>\n",
       "      <th>FA</th>\n",
       "      <th>Missed</th>\n",
       "      <th>counted person</th>\n",
       "      <th>person</th>\n",
       "    </tr>\n",
       "  </thead>\n",
       "  <tbody>\n",
       "    <tr>\n",
       "      <th>0</th>\n",
       "      <td>--ALL--</td>\n",
       "      <td>NaN</td>\n",
       "      <td>NaN</td>\n",
       "      <td>NaN</td>\n",
       "      <td>NaN</td>\n",
       "      <td>NaN</td>\n",
       "      <td>NaN</td>\n",
       "    </tr>\n",
       "  </tbody>\n",
       "</table>\n",
       "</div>"
      ],
      "text/plain": [
       "      file  DER  JER   FA Missed counted person person\n",
       "0  --ALL--  NaN  NaN  NaN    NaN            NaN    NaN"
      ]
     },
     "execution_count": 18,
     "metadata": {},
     "output_type": "execute_result"
    }
   ],
   "source": [
    "stat(with_noise_pyAA, test, delete_noise_name)"
   ]
  }
 ],
 "metadata": {
  "kernelspec": {
   "display_name": "Python 3",
   "language": "python",
   "name": "python3"
  },
  "language_info": {
   "codemirror_mode": {
    "name": "ipython",
    "version": 3
   },
   "file_extension": ".py",
   "mimetype": "text/x-python",
   "name": "python",
   "nbconvert_exporter": "python",
   "pygments_lexer": "ipython3",
   "version": "3.8.5"
  }
 },
 "nbformat": 4,
 "nbformat_minor": 5
}
