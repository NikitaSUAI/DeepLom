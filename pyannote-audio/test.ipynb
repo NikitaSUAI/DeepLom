{
 "cells": [
  {
   "cell_type": "code",
   "execution_count": 1,
   "id": "aed3eeb7-9c89-4e14-9882-8e131c5898d1",
   "metadata": {},
   "outputs": [
    {
     "name": "stderr",
     "output_type": "stream",
     "text": [
      "Using cache found in /home/nikittossii/.cache/torch/hub/pyannote_pyannote-audio_master\n",
      "Using cache found in /home/nikittossii/.cache/torch/hub/pyannote_pyannote-audio_master\n",
      "Using cache found in /home/nikittossii/.cache/torch/hub/pyannote_pyannote-audio_master\n",
      "Using cache found in /home/nikittossii/.cache/torch/hub/pyannote_pyannote-audio_master\n",
      "/home/nikittossii/Documents/DeeepLom/pyannote-audio/env/lib/python3.7/site-packages/pyannote/audio/embedding/approaches/arcface_loss.py:170: FutureWarning: The 's' parameter is deprecated in favor of 'scale', and will be removed in a future release\n",
      "  warnings.warn(msg, FutureWarning)\n",
      "/home/nikittossii/Documents/DeeepLom/pyannote-audio/env/lib/python3.7/site-packages/pyannote/audio/features/pretrained.py:156: UserWarning: Model was trained with 4s chunks and is applied on 2s chunks. This might lead to sub-optimal results.\n",
      "  warnings.warn(msg)\n",
      "Using cache found in /home/nikittossii/.cache/torch/hub/pyannote_pyannote-audio_master\n"
     ]
    }
   ],
   "source": [
    "import torch\n",
    "pipeline = torch.hub.load('pyannote/pyannote-audio', 'dia')"
   ]
  }
 ],
 "metadata": {
  "kernelspec": {
   "display_name": "Python 3",
   "language": "python",
   "name": "python3"
  },
  "language_info": {
   "codemirror_mode": {
    "name": "ipython",
    "version": 3
   },
   "file_extension": ".py",
   "mimetype": "text/x-python",
   "name": "python",
   "nbconvert_exporter": "python",
   "pygments_lexer": "ipython3",
   "version": "3.7.10"
  }
 },
 "nbformat": 4,
 "nbformat_minor": 5
}
