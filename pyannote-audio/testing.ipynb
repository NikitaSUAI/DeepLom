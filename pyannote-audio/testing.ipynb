{
 "cells": [
  {
   "cell_type": "markdown",
   "id": "6f6cf052-f46d-46c5-80cd-794de65590de",
   "metadata": {},
   "source": [
    "Тут загружаем модель из torch.hub"
   ]
  },
  {
   "cell_type": "code",
   "execution_count": 2,
   "id": "0e005cf2-722f-496f-bd99-f39be6ab1d26",
   "metadata": {},
   "outputs": [
    {
     "name": "stderr",
     "output_type": "stream",
     "text": [
      "Downloading: \"https://github.com/pyannote/pyannote-audio/archive/master.zip\" to /home/nikittossii/.cache/torch/hub/master.zip\n",
      "Using cache found in /home/nikittossii/.cache/torch/hub/pyannote_pyannote-audio_master\n",
      "Using cache found in /home/nikittossii/.cache/torch/hub/pyannote_pyannote-audio_master\n",
      "Using cache found in /home/nikittossii/.cache/torch/hub/pyannote_pyannote-audio_master\n",
      "Using cache found in /home/nikittossii/.cache/torch/hub/pyannote_pyannote-audio_master\n"
     ]
    }
   ],
   "source": [
    "import torch\n",
    "pipeline = torch.hub.load('pyannote/pyannote-audio', 'dia', force_reload=True)"
   ]
  },
  {
   "cell_type": "markdown",
   "id": "eeda2cb8-c407-4d87-b4f7-d6a461fb45d5",
   "metadata": {},
   "source": [
    "Ниже загружаем тестовый файл длительностью 1 минуту(с 39 по 40 минуту от исзодного файла)"
   ]
  },
  {
   "cell_type": "code",
   "execution_count": 3,
   "id": "21857eae-7a11-4005-bd2a-610e59566fc6",
   "metadata": {},
   "outputs": [],
   "source": [
    "Test_file = {\"uri\":\"EN2001a.Mix-Headset\", \"audio\":\"test3940.wav\"}"
   ]
  },
  {
   "cell_type": "markdown",
   "id": "b53a1577-d4fd-425c-b72d-67f94a91eae0",
   "metadata": {},
   "source": [
    "Запускаем алгоритм для этого фала"
   ]
  },
  {
   "cell_type": "code",
   "execution_count": 4,
   "id": "a174af7d-45e4-471d-9791-518ed3d6841a",
   "metadata": {},
   "outputs": [
    {
     "name": "stderr",
     "output_type": "stream",
     "text": [
      "/home/nikittossii/Documents/test/env/lib/python3.8/site-packages/sklearn/cluster/_affinity_propagation.py:148: FutureWarning: 'random_state' has been introduced in 0.23. It will be set to None starting from 1.0 (renaming of 0.25) which means that results will differ at every function call. Set 'random_state' to None to silence this warning, or to 0 to keep the behavior of versions <0.23.\n",
      "  warnings.warn(\n"
     ]
    }
   ],
   "source": [
    "diarization = pipeline(Test_file)"
   ]
  },
  {
   "cell_type": "markdown",
   "id": "84c98051-0eb1-4221-bdc4-b979e3b1d8e8",
   "metadata": {},
   "source": [
    "Получаем вместо диаризации, VAD (скорее всего из за того что файл короткий)"
   ]
  },
  {
   "cell_type": "code",
   "execution_count": 5,
   "id": "8a3d0b2d-a87d-47df-9406-b713c504719c",
   "metadata": {},
   "outputs": [
    {
     "data": {
      "image/png": "[encoded data removed]",
      "text/plain": [
       "<pyannote.core.annotation.Annotation at 0x7f6a072318b0>"
      ]
     },
     "execution_count": 5,
     "metadata": {},
     "output_type": "execute_result"
    }
   ],
   "source": [
    "diarization"
   ]
  },
  {
   "cell_type": "markdown",
   "id": "4d2e3396-b489-443b-8f1f-fc321be5114f",
   "metadata": {},
   "source": [
    "Повторим алгоритм для более длинного файла(30 минут, с 20 минуты по 50, что бы потом сравнить промежутки с 39-40)"
   ]
  },
  {
   "cell_type": "code",
   "execution_count": 6,
   "id": "e75bd7f1-d2bc-4e91-96c8-e104f370d80a",
   "metadata": {},
   "outputs": [
    {
     "name": "stderr",
     "output_type": "stream",
     "text": [
      "/home/nikittossii/Documents/test/env/lib/python3.8/site-packages/sklearn/cluster/_affinity_propagation.py:148: FutureWarning: 'random_state' has been introduced in 0.23. It will be set to None starting from 1.0 (renaming of 0.25) which means that results will differ at every function call. Set 'random_state' to None to silence this warning, or to 0 to keep the behavior of versions <0.23.\n",
      "  warnings.warn(\n"
     ]
    }
   ],
   "source": [
    "full_file = {\"uri\":\"EN2001a.Mix-Headset\", \"audio\":\"test2050.wav\"}\n",
    "diarization_on_full_audio = pipeline(full_file)"
   ]
  },
  {
   "cell_type": "markdown",
   "id": "9e67e85f-5cbb-4cd6-b883-d29ec187dd5a",
   "metadata": {},
   "source": [
    "Дальше выведем промежуток с 39 по 40 минуту из большого файла(т.к. начинается с 20 минты то смещаем начало на 19 минут и конец через минуту(1140с и 1200с))\n",
    "Получаем 2 диаграммы на 1 изображена диаризация из большого файла, на 2 та же диаризация, но из минутного файла.\n",
    "На 2 диаграмме получили VAD\n",
    "\n",
    "Не использовал тестовые, заранее размеченные файлы, т.к. они слишком короткие и срабатывают некорректно"
   ]
  },
  {
   "cell_type": "code",
   "execution_count": 24,
   "id": "8a6728fe-33ad-4a93-a5db-33ab202a7a8b",
   "metadata": {},
   "outputs": [
    {
     "data": {
      "image/png": "[encoded data removed]",
      "text/plain": [
       "<pyannote.core.annotation.Annotation at 0x7f6a08428c10>"
      ]
     },
     "execution_count": 24,
     "metadata": {},
     "output_type": "execute_result"
    }
   ],
   "source": [
    "from pyannote.core import Segment, notebook\n",
    "EXCERPT = Segment(1140, 1200)\n",
    "notebook.crop = EXCERPT\n",
    "\n",
    "diarization_on_full_audio"
   ]
  },
  {
   "cell_type": "code",
   "execution_count": 17,
   "id": "41faa14f-9ff1-4c1c-b830-5a02b2bdfc9e",
   "metadata": {},
   "outputs": [
    {
     "data": {
      "image/png": "[encoded data removed]",
      "text/plain": [
       "<pyannote.core.annotation.Annotation at 0x7f6a072318b0>"
      ]
     },
     "execution_count": 17,
     "metadata": {},
     "output_type": "execute_result"
    }
   ],
   "source": [
    "notebook.crop = None\n",
    "diarization"
   ]
  }
 ],
 "metadata": {
  "kernelspec": {
   "display_name": "Python 3",
   "language": "python",
   "name": "python3"
  },
  "language_info": {
   "codemirror_mode": {
    "name": "ipython",
    "version": 3
   },
   "file_extension": ".py",
   "mimetype": "text/x-python",
   "name": "python",
   "nbconvert_exporter": "python",
   "pygments_lexer": "ipython3",
   "version": "3.7.10"
  }
 },
 "nbformat": 4,
 "nbformat_minor": 5
}
